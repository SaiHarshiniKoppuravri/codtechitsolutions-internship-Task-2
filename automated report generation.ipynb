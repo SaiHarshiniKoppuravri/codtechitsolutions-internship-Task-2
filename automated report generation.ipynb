{
 "cells": [
  {
   "cell_type": "code",
   "execution_count": 21,
   "id": "82a4c075-225c-4280-8877-d5a711ef6b7e",
   "metadata": {},
   "outputs": [
    {
     "name": "stdout",
     "output_type": "stream",
     "text": [
      "Requirement already satisfied: reportlab in c:\\users\\harshini koppuravuri\\appdata\\local\\programs\\python\\python313\\lib\\site-packages (4.4.2)\n",
      "Requirement already satisfied: pillow>=9.0.0 in c:\\users\\harshini koppuravuri\\appdata\\local\\programs\\python\\python313\\lib\\site-packages (from reportlab) (11.2.1)\n",
      "Requirement already satisfied: charset-normalizer in c:\\users\\harshini koppuravuri\\appdata\\local\\programs\\python\\python313\\lib\\site-packages (from reportlab) (3.4.2)\n"
     ]
    }
   ],
   "source": [
    "!pip install reportlab"
   ]
  },
  {
   "cell_type": "code",
   "execution_count": 22,
   "id": "e9961f4f-9e70-494d-ba79-4193b3c32a82",
   "metadata": {},
   "outputs": [],
   "source": [
    "import pandas as pd\n",
    "from reportlab.lib.pagesizes import A4\n",
    "from reportlab.platypus import SimpleDocTemplate, Table, TableStyle, Paragraph, Spacer\n",
    "from reportlab.lib.styles import getSampleStyleSheet\n",
    "from reportlab.lib import colors"
   ]
  },
  {
   "cell_type": "code",
   "execution_count": 23,
   "id": "1e70dc6e-b9ac-427d-84ae-4d9911a3a65d",
   "metadata": {},
   "outputs": [],
   "source": [
    "# 1. Load data\n",
    "df = pd.read_csv(r\"C:\\Users\\Harshini Koppuravuri\\Downloads\\archive (3)\\combined_employee_dataset_1.csv\")"
   ]
  },
  {
   "cell_type": "code",
   "execution_count": 24,
   "id": "8c9d518c-1df5-4069-be3e-6f13d9683e6d",
   "metadata": {},
   "outputs": [
    {
     "name": "stdout",
     "output_type": "stream",
     "text": [
      "   age  years_experience education_level department  performance_score  \\\n",
      "0   58                23     High School    Finance                 10   \n",
      "1   48                39        Bachelor         HR                  6   \n",
      "2   34                15     High School         HR                  5   \n",
      "3   27                29             PhD         HR                  4   \n",
      "4   40                36             PhD    Finance                  2   \n",
      "\n",
      "  performance_category  \n",
      "0            Excellent  \n",
      "1                 Good  \n",
      "2              Average  \n",
      "3              Average  \n",
      "4                 Poor  \n",
      "Index(['age', 'years_experience', 'education_level', 'department',\n",
      "       'performance_score', 'performance_category'],\n",
      "      dtype='object')\n"
     ]
    }
   ],
   "source": [
    "# 2. Optional: Examine structure\n",
    "print(df.head())\n",
    "print(df.columns)"
   ]
  },
  {
   "cell_type": "code",
   "execution_count": 25,
   "id": "9c4047ab-91bd-467c-99e4-5c77935d20e0",
   "metadata": {},
   "outputs": [
    {
     "data": {
      "text/plain": [
       "age                     0\n",
       "years_experience        0\n",
       "education_level         0\n",
       "department              0\n",
       "performance_score       0\n",
       "performance_category    0\n",
       "dtype: int64"
      ]
     },
     "execution_count": 25,
     "metadata": {},
     "output_type": "execute_result"
    }
   ],
   "source": [
    "df.isna().sum()"
   ]
  },
  {
   "cell_type": "code",
   "execution_count": 29,
   "id": "39400d70-fb96-4d93-9799-a66c42fae026",
   "metadata": {},
   "outputs": [
    {
     "data": {
      "text/html": [
       "<div>\n",
       "<style scoped>\n",
       "    .dataframe tbody tr th:only-of-type {\n",
       "        vertical-align: middle;\n",
       "    }\n",
       "\n",
       "    .dataframe tbody tr th {\n",
       "        vertical-align: top;\n",
       "    }\n",
       "\n",
       "    .dataframe thead th {\n",
       "        text-align: right;\n",
       "    }\n",
       "</style>\n",
       "<table border=\"1\" class=\"dataframe\">\n",
       "  <thead>\n",
       "    <tr style=\"text-align: right;\">\n",
       "      <th></th>\n",
       "      <th>Department</th>\n",
       "      <th>Count</th>\n",
       "      <th>Average Score</th>\n",
       "      <th>Max Score</th>\n",
       "      <th>Min Score</th>\n",
       "    </tr>\n",
       "  </thead>\n",
       "  <tbody>\n",
       "    <tr>\n",
       "      <th>0</th>\n",
       "      <td>Finance</td>\n",
       "      <td>187</td>\n",
       "      <td>5.716578</td>\n",
       "      <td>10</td>\n",
       "      <td>1</td>\n",
       "    </tr>\n",
       "    <tr>\n",
       "      <th>1</th>\n",
       "      <td>HR</td>\n",
       "      <td>178</td>\n",
       "      <td>5.292135</td>\n",
       "      <td>10</td>\n",
       "      <td>1</td>\n",
       "    </tr>\n",
       "    <tr>\n",
       "      <th>2</th>\n",
       "      <td>Sales</td>\n",
       "      <td>221</td>\n",
       "      <td>5.371041</td>\n",
       "      <td>10</td>\n",
       "      <td>1</td>\n",
       "    </tr>\n",
       "    <tr>\n",
       "      <th>3</th>\n",
       "      <td>Tech</td>\n",
       "      <td>205</td>\n",
       "      <td>5.604878</td>\n",
       "      <td>10</td>\n",
       "      <td>1</td>\n",
       "    </tr>\n",
       "  </tbody>\n",
       "</table>\n",
       "</div>"
      ],
      "text/plain": [
       "  Department  Count  Average Score  Max Score  Min Score\n",
       "0    Finance    187       5.716578         10          1\n",
       "1         HR    178       5.292135         10          1\n",
       "2      Sales    221       5.371041         10          1\n",
       "3       Tech    205       5.604878         10          1"
      ]
     },
     "execution_count": 29,
     "metadata": {},
     "output_type": "execute_result"
    }
   ],
   "source": [
    "# Group by 'department' and summarize 'performance_score'\n",
    "summary = df.groupby('department').agg({\n",
    "    'performance_score': ['count', 'mean', 'max', 'min']\n",
    "}).reset_index()\n",
    "\n",
    "# Flatten column names\n",
    "summary.columns = ['Department', 'Count', 'Average Score', 'Max Score', 'Min Score']\n",
    "summary"
   ]
  },
  {
   "cell_type": "code",
   "execution_count": 31,
   "id": "8f194d3f-5848-4260-92f9-08dd198247d6",
   "metadata": {},
   "outputs": [
    {
     "name": "stdout",
     "output_type": "stream",
     "text": [
      "PDF saved as: performance_report.pdf\n"
     ]
    }
   ],
   "source": [
    "from reportlab.platypus import SimpleDocTemplate, Table, TableStyle, Paragraph, Spacer\n",
    "from reportlab.lib.pagesizes import A4\n",
    "from reportlab.lib import colors\n",
    "from reportlab.lib.styles import getSampleStyleSheet\n",
    "\n",
    "def generate_pdf(df, filename=\"performance_report.pdf\"):\n",
    "    doc = SimpleDocTemplate(filename, pagesize=A4)\n",
    "    styles = getSampleStyleSheet()\n",
    "    elements = []\n",
    "\n",
    "    elements.append(Paragraph(\"Department Performance Summary\", styles[\"Title\"]))\n",
    "    elements.append(Spacer(1, 12))\n",
    "\n",
    "    data = [df.columns.tolist()] + df.values.tolist()\n",
    "    table = Table(data)\n",
    "    table.setStyle(TableStyle([\n",
    "        ('BACKGROUND', (0, 0), (-1, 0), colors.grey),\n",
    "        ('TEXTCOLOR', (0, 0), (-1, 0), colors.whitesmoke),\n",
    "        ('GRID', (0, 0), (-1, -1), 0.5, colors.black),\n",
    "        ('ALIGN', (0, 0), (-1, -1), 'CENTER'),\n",
    "        ('BACKGROUND', (0, 1), (-1, -1), colors.beige),\n",
    "    ]))\n",
    "\n",
    "    elements.append(table)\n",
    "    doc.build(elements)\n",
    "    print(\"PDF saved as:\", filename)\n",
    "\n",
    "generate_pdf(summary)"
   ]
  }
 ],
 "metadata": {
  "kernelspec": {
   "display_name": "Python 3 (ipykernel)",
   "language": "python",
   "name": "python3"
  },
  "language_info": {
   "codemirror_mode": {
    "name": "ipython",
    "version": 3
   },
   "file_extension": ".py",
   "mimetype": "text/x-python",
   "name": "python",
   "nbconvert_exporter": "python",
   "pygments_lexer": "ipython3",
   "version": "3.13.5"
  }
 },
 "nbformat": 4,
 "nbformat_minor": 5
}
